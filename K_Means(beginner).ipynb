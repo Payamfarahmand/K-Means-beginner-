{
  "nbformat": 4,
  "nbformat_minor": 0,
  "metadata": {
    "colab": {
      "provenance": [],
      "toc_visible": true,
      "authorship_tag": "ABX9TyOkgRl61hQK+irMGt8PYkWn",
      "include_colab_link": true
    },
    "kernelspec": {
      "name": "python3",
      "display_name": "Python 3"
    },
    "language_info": {
      "name": "python"
    }
  },
  "cells": [
    {
      "cell_type": "markdown",
      "metadata": {
        "id": "view-in-github",
        "colab_type": "text"
      },
      "source": [
        "<a href=\"https://colab.research.google.com/github/Payamfarahmand/K-Means-beginner-/blob/main/K_Means(beginner).ipynb\" target=\"_parent\"><img src=\"https://colab.research.google.com/assets/colab-badge.svg\" alt=\"Open In Colab\"/></a>"
      ]
    },
    {
      "cell_type": "code",
      "source": [
        "import random\n",
        "from google.colab import drive\n",
        "\n",
        "# Step 1: Mount Google Drive\n",
        "drive.mount('/content/drive')\n",
        "\n",
        "# Step 2: Reading data from the .txt file\n",
        "def read_3d_points(filename):\n",
        "    points = []\n",
        "    with open(filename, 'r') as file:\n",
        "        for line in file:\n",
        "            try:\n",
        "                # Split the line by commas and convert to float\n",
        "                x, y, z = map(float, line.strip().split(','))\n",
        "                points.append([x, y, z])\n",
        "            except ValueError:\n",
        "                # Ignore lines with missing or invalid data\n",
        "                print(f\"Skipping invalid line: {line.strip()}\")\n",
        "    return points\n",
        "\n",
        "# Step 3: K-Means Algorithm\n",
        "class KMeans:\n",
        "    def __init__(self, k, max_iterations=100):\n",
        "        self.k = k\n",
        "        self.max_iterations = max_iterations\n",
        "        self.centroids = []\n",
        "\n",
        "    def initialize_centroids(self, points):\n",
        "        # Randomly choose k points as initial centroids\n",
        "        self.centroids = random.sample(points, self.k)\n",
        "\n",
        "    def assign_clusters(self, points):\n",
        "        clusters = [[] for _ in range(self.k)]\n",
        "        for point in points:\n",
        "            distances = [self.euclidean_distance(point, centroid) for centroid in self.centroids]\n",
        "            closest_centroid = distances.index(min(distances))\n",
        "            clusters[closest_centroid].append(point)\n",
        "        return clusters\n",
        "\n",
        "    def update_centroids(self, clusters):\n",
        "        new_centroids = []\n",
        "        for cluster in clusters:\n",
        "            if cluster:  # Avoid division by zero\n",
        "                new_centroids.append([sum(dim)/len(cluster) for dim in zip(*cluster)])\n",
        "            else:\n",
        "                new_centroids.append(random.choice(clusters))  # Handle empty clusters by random selection\n",
        "        return new_centroids\n",
        "\n",
        "    def euclidean_distance(self, point1, point2):\n",
        "        return sum((p1 - p2) ** 2 for p1, p2 in zip(point1, point2)) ** 0.5\n",
        "\n",
        "    def fit(self, points):\n",
        "        self.initialize_centroids(points)\n",
        "\n",
        "        for i in range(self.max_iterations):\n",
        "            clusters = self.assign_clusters(points)\n",
        "            new_centroids = self.update_centroids(clusters)\n",
        "\n",
        "            # Check for convergence (if centroids don't change)\n",
        "            if new_centroids == self.centroids:\n",
        "                break\n",
        "\n",
        "            self.centroids = new_centroids\n",
        "\n",
        "        return self.centroids, clusters\n",
        "\n",
        "# Step 4: Main function to run the process\n",
        "def main():\n",
        "    # Address the points.txt file in Colab Notebooks folder\n",
        "    filename = '/content/drive/My Drive/Colab Notebooks/points.txt'\n",
        "\n",
        "    points = read_3d_points(filename)\n",
        "\n",
        "    if not points:\n",
        "        print(\"No valid points found in the file.\")\n",
        "        return\n",
        "\n",
        "    k = int(input(\"Enter the number of clusters (k): \"))\n",
        "\n",
        "    # Initialize and run K-Means\n",
        "    kmeans = KMeans(k)\n",
        "    centroids, clusters = kmeans.fit(points)\n",
        "\n",
        "    # Display the results\n",
        "    for idx, cluster in enumerate(clusters):\n",
        "        print(f\"\\nCluster {idx + 1}:\")\n",
        "        for point in cluster:\n",
        "            print(point)\n",
        "\n",
        "    print(\"\\nCentroids:\")\n",
        "    for centroid in centroids:\n",
        "        print(centroid)\n",
        "\n",
        "# Run the main function\n",
        "if __name__ == \"__main__\":\n",
        "    main()\n"
      ],
      "metadata": {
        "colab": {
          "base_uri": "https://localhost:8080/"
        },
        "id": "JXeY0_ohIaEO",
        "outputId": "d451f14f-9931-4ca4-be46-64460001e057"
      },
      "execution_count": 8,
      "outputs": [
        {
          "output_type": "stream",
          "name": "stdout",
          "text": [
            "Drive already mounted at /content/drive; to attempt to forcibly remount, call drive.mount(\"/content/drive\", force_remount=True).\n",
            "No valid points found in the file.\n"
          ]
        }
      ]
    },
    {
      "cell_type": "code",
      "source": [
        "file_path = '/content/drive/My Drive/Colab Notebooks/points.txt'\n",
        "\n",
        "with open(file_path, 'r') as file:\n",
        "    contents = file.read()\n",
        "\n",
        "print(contents)"
      ],
      "metadata": {
        "colab": {
          "base_uri": "https://localhost:8080/"
        },
        "id": "GkDD5CR_NJtQ",
        "outputId": "cb4b8ff9-a23b-428c-f2c5-70bf77980082"
      },
      "execution_count": 10,
      "outputs": [
        {
          "output_type": "stream",
          "name": "stdout",
          "text": [
            "\n"
          ]
        }
      ]
    },
    {
      "cell_type": "markdown",
      "source": [],
      "metadata": {
        "id": "uO8CSGqZN_0v"
      }
    }
  ]
}